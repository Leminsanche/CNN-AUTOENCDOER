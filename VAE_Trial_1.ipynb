{
 "cells": [
  {
   "cell_type": "markdown",
   "metadata": {},
   "source": [
    "# VAE "
   ]
  },
  {
   "cell_type": "markdown",
   "metadata": {},
   "source": [
    "- Crear Data Loader Dividir la data 80% - 10% - 10%  Utilizando clase DataLoader Pytorch\n",
    "- Visualizar Imagenes 8 x 8 para comprar simulacion real y simulacion generada\n",
    "- Normalizar Base de datos entre [-1 , 1]\n",
    "- Autoencoder con CNN o MLP  - VAE con CNN o MLP\n",
    "- Validar mediante dimensionalidad\n",
    "- Entrenar y Generar Graficos Loss Train - Loss Validation - Loss Test\n",
    "- Visualizar resultados\n",
    "\n",
    "Se realizaron 200 Simulaciones con parametros constitutivos aleatorios para el modelo Holzapfel 2015, las simulaciones se realizaron en 200 pasos donde se guardaron desde el 50 hasta el final, por lo cual se poseen $151 \\cdot 200 = 30200$ \"Imagenes\" Cada simulacion posee 7701 nodos. "
   ]
  },
  {
   "cell_type": "markdown",
   "metadata": {},
   "source": [
    "# Arquitectura"
   ]
  },
  {
   "cell_type": "code",
   "execution_count": 2,
   "metadata": {},
   "outputs": [
    {
     "name": "stdout",
     "output_type": "stream",
     "text": [
      "cuda\n",
      "Epoch [1/10], Loss: 0.0325\n",
      "Epoch [6/10], Loss: 0.0235\n"
     ]
    }
   ],
   "source": [
    "from arquitectura import *\n",
    "from DataLoader import *\n",
    "import torch\n",
    "import torch.nn as nn\n",
    "import torch.optim as optim\n",
    "from torch.utils.data import DataLoader\n",
    "from arquitectura import *\n",
    "\n",
    "train_dataset = Presurisation_Data('/media/nicolas/DiscoDuro/VAE_DATA/Imagen_Presurizacion',split = 'train')\n",
    "test_dataset = Presurisation_Data('/media/nicolas/DiscoDuro/VAE_DATA/Imagen_Presurizacion',split = 'test')\n",
    "val_dataset = Presurisation_Data('/media/nicolas/DiscoDuro/VAE_DATA/Imagen_Presurizacion',split = 'val')\n",
    "\n",
    "\n",
    "train_loader = DataLoader(dataset=train_dataset, \n",
    "\t\t\t\t\t\t\t\t\t\tbatch_size=128, \n",
    "\t\t\t\t\t\t\t\t\t\tshuffle=True)\n",
    "\n",
    "\n",
    "autoencoder = ConvAutoencoder()\n",
    "\n",
    "device = torch.device('cuda' if torch.cuda.is_available() else 'cpu')\n",
    "print(device)\n",
    "\n",
    "autoencoder.to(device)\n",
    "\n",
    "\n",
    "# Define the loss function and optimizer\n",
    "criterion = nn.MSELoss()\n",
    "optimizer = optim.Adam(autoencoder.parameters(), lr=0.001)\n",
    "\n",
    "\n",
    "\n",
    "num_epochs = 10\n",
    "for epoch in range(num_epochs):\n",
    "\tfor data in train_loader:\n",
    "\t\timg = data\n",
    "\t\timg = img.to(device)\n",
    "\t\toptimizer.zero_grad()\n",
    "\t\toutput = autoencoder(img)\n",
    "\t\tloss = criterion(output, img)\n",
    "\t\tloss.backward()\n",
    "\t\toptimizer.step()\n",
    "\tif epoch % 5== 0:\n",
    "\t\tprint('Epoch [{}/{}], Loss: {:.4f}'.format(epoch+1, num_epochs, loss.item()))\n",
    "\n",
    "torch.save(autoencoder.state_dict(), 'conv_autoencoder.pth')\n"
   ]
  }
 ],
 "metadata": {
  "kernelspec": {
   "display_name": "Python 3",
   "language": "python",
   "name": "python3"
  },
  "language_info": {
   "codemirror_mode": {
    "name": "ipython",
    "version": 3
   },
   "file_extension": ".py",
   "mimetype": "text/x-python",
   "name": "python",
   "nbconvert_exporter": "python",
   "pygments_lexer": "ipython3",
   "version": "3.10.12"
  }
 },
 "nbformat": 4,
 "nbformat_minor": 2
}
